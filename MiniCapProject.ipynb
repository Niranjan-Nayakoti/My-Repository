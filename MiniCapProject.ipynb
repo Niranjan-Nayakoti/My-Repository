{
  "nbformat": 4,
  "nbformat_minor": 0,
  "metadata": {
    "colab": {
      "name": "MiniCapProject.ipynb",
      "provenance": [],
      "collapsed_sections": []
    },
    "kernelspec": {
      "name": "python3",
      "display_name": "Python 3"
    },
    "language_info": {
      "name": "python"
    }
  },
  "cells": [
    {
      "cell_type": "markdown",
      "source": [
        "**Mini Capstone Project**\n",
        " \n",
        "This Project is about Data interpretation and visualisation of a fictional telco company that provided home phone and Internet services to 7043 customers in California in Quarter 3 of the fiscal year."
      ],
      "metadata": {
        "id": "W1bakNzg53uw"
      }
    },
    {
      "cell_type": "markdown",
      "source": [
        "**Data Description**\n",
        "\n",
        "7043 observations with 33 variables"
      ],
      "metadata": {
        "id": "9CF-4w2tCvGA"
      }
    },
    {
      "cell_type": "markdown",
      "source": [
        "\n",
        "\n",
        "* CustomerID: A unique ID that identifies each customer.\n",
        "\n",
        "* Count: A value used in reporting/dashboarding to sum up the number of customers in a filtered set.\n",
        "\n",
        "\n",
        "*   Country: The country of the customer’s primary residence.\n",
        "\n",
        "*   State: The state of the customer’s primary residence.\n",
        "\n",
        "\n",
        "* City: The city of the customer’s primary residence.\n",
        "* Zip Code: The zip code of the customer’s primary residence.\n",
        "* Lat Long: The combined latitude and longitude of the customer’s primary residence.\n",
        "* Latitude: The latitude of the customer’s primary residence.\n",
        "* Longitude: The longitude of the customer’s primary residence.\n",
        "* Gender: The customer’s gender: Male, Female\n",
        "* Senior Citizen: Indicates if the customer is 65 or older: Yes, No\n",
        "* Partner: Indicate if the customer has a partner: Yes, No\n",
        "* Dependents: Indicates if the customer lives with any dependents: Yes, No. Dependents could be children, parents, grandparents, etc.\n",
        "* Tenure Months: Indicates the total amount of months that the customer has been with the company by the end of the quarter specified above.\n",
        "* Phone Service: Indicates if the customer subscribes to home phone service with the company: Yes, No\n",
        "* Multiple Lines: Indicates if the customer subscribes to multiple telephone lines with the company: Yes, No\n",
        "* Internet Service: Indicates if the customer subscribes to Internet service with the company: No, DSL, Fiber Optic, Cable.\n",
        "* Online Security: Indicates if the customer subscribes to an additional online security service provided by the company: Yes, No\n",
        "* Online Backup: Indicates if the customer subscribes to an additional online backup service provided by the company: Yes, No\n",
        "* Device Protection: Indicates if the customer subscribes to an additional device protection plan for their Internet equipment provided by the company: Yes, No\n",
        "* Tech Support: Indicates if the customer subscribes to an additional technical support plan from the company with reduced wait times: Yes, No\n",
        "* Streaming TV: Indicates if the customer uses their Internet service to stream television programming from a third party provider: Yes, No. The company does not charge an additional fee for this service.\n",
        "* Streaming Movies: Indicates if the customer uses their Internet service to stream movies from a third party provider: Yes, No. The company does not charge an additional fee for this service.\n",
        "* Contract: Indicates the customer’s current contract type: Month-to-Month, One Year, Two Year.\n",
        "* Paperless Billing: Indicates if the customer has chosen paperless billing: Yes, No\n",
        "* Payment Method: Indicates how the customer pays their bill: Bank Withdrawal, Credit Card, Mailed Check\n",
        "* Monthly Charge: Indicates the customer’s current total monthly charge for all their services from the company.\n",
        "* Total Charges: Indicates the customer’s total charges, calculated to the end of the quarter specified above.\n",
        "* Churn Label: Yes = the customer left the company this quarter. No = the customer remained with the company. Directly related to Churn Value.\n",
        "* Churn Value: 1 = the customer left the company this quarter. 0 = the customer remained with the company. Directly related to Churn Label.\n",
        "* Churn Score: A value from 0-100 that is calculated using the predictive tool IBM SPSS Modeler. The model incorporates multiple factors known to cause churn. The higher the score, the more likely the customer will churn.\n",
        "*  CLTV: Customer Lifetime Value. A predicted CLTV is calculated using corporate formulas and existing data. The higher the value, the more valuable the customer. High value customers should be monitored for churn.\n",
        "* Churn Reason: A customer’s specific reason for leaving the \n",
        "company. Directly related to Churn Category.\n",
        "\n",
        "\n",
        "\n",
        "\n",
        "\n",
        "\n",
        "\n"
      ],
      "metadata": {
        "id": "M9qBSsfTDJHz"
      }
    },
    {
      "cell_type": "code",
      "source": [
        "import pandas as pd\n",
        "import matplotlib.pyplot as plt\n",
        "import numpy as np\n",
        "import statistics as st\n",
        "import seaborn as sns"
      ],
      "metadata": {
        "id": "IIRMMFB66Mji"
      },
      "execution_count": 21,
      "outputs": []
    },
    {
      "cell_type": "markdown",
      "source": [
        "**Q1: Please read the file and explain data types statistically as well as how python is reading it. Please let us know if any data type is read wrong.**\n",
        "\n"
      ],
      "metadata": {
        "id": "Gtko9wNKGjet"
      }
    },
    {
      "cell_type": "code",
      "source": [
        "df=pd.read_excel(\"Telco_customer_churn.xlsx\")\n",
        "df"
      ],
      "metadata": {
        "colab": {
          "base_uri": "https://localhost:8080/",
          "height": 748
        },
        "id": "IAYw1PAr6dVd",
        "outputId": "fb1d0536-0457-4703-9b33-3621ea7e61df"
      },
      "execution_count": 22,
      "outputs": [
        {
          "output_type": "execute_result",
          "data": {
            "text/plain": [
              "      CustomerID  Count        Country       State          City  Zip Code  \\\n",
              "0     3668-QPYBK      1  United States  California   Los Angeles     90003   \n",
              "1     9237-HQITU      1  United States  California   Los Angeles     90005   \n",
              "2     9305-CDSKC      1  United States  California   Los Angeles     90006   \n",
              "3     7892-POOKP      1  United States  California   Los Angeles     90010   \n",
              "4     0280-XJGEX      1  United States  California   Los Angeles     90015   \n",
              "...          ...    ...            ...         ...           ...       ...   \n",
              "7038  2569-WGERO      1  United States  California       Landers     92285   \n",
              "7039  6840-RESVB      1  United States  California      Adelanto     92301   \n",
              "7040  2234-XADUH      1  United States  California         Amboy     92304   \n",
              "7041  4801-JZAZL      1  United States  California  Angelus Oaks     92305   \n",
              "7042  3186-AJIEK      1  United States  California  Apple Valley     92308   \n",
              "\n",
              "                    Lat Long   Latitude   Longitude  Gender  ...  \\\n",
              "0     33.964131, -118.272783  33.964131 -118.272783    Male  ...   \n",
              "1      34.059281, -118.30742  34.059281 -118.307420  Female  ...   \n",
              "2     34.048013, -118.293953  34.048013 -118.293953  Female  ...   \n",
              "3     34.062125, -118.315709  34.062125 -118.315709  Female  ...   \n",
              "4     34.039224, -118.266293  34.039224 -118.266293    Male  ...   \n",
              "...                      ...        ...         ...     ...  ...   \n",
              "7038  34.341737, -116.539416  34.341737 -116.539416  Female  ...   \n",
              "7039  34.667815, -117.536183  34.667815 -117.536183    Male  ...   \n",
              "7040  34.559882, -115.637164  34.559882 -115.637164  Female  ...   \n",
              "7041     34.1678, -116.86433  34.167800 -116.864330  Female  ...   \n",
              "7042  34.424926, -117.184503  34.424926 -117.184503    Male  ...   \n",
              "\n",
              "            Contract Paperless Billing             Payment Method  \\\n",
              "0     Month-to-month               Yes               Mailed check   \n",
              "1     Month-to-month               Yes           Electronic check   \n",
              "2     Month-to-month               Yes           Electronic check   \n",
              "3     Month-to-month               Yes           Electronic check   \n",
              "4     Month-to-month               Yes  Bank transfer (automatic)   \n",
              "...              ...               ...                        ...   \n",
              "7038        Two year               Yes  Bank transfer (automatic)   \n",
              "7039        One year               Yes               Mailed check   \n",
              "7040        One year               Yes    Credit card (automatic)   \n",
              "7041  Month-to-month               Yes           Electronic check   \n",
              "7042        Two year               Yes  Bank transfer (automatic)   \n",
              "\n",
              "      Monthly Charges Total Charges Churn Label Churn Value Churn Score  CLTV  \\\n",
              "0               53.85        108.15         Yes           1          86  3239   \n",
              "1               70.70        151.65         Yes           1          67  2701   \n",
              "2               99.65         820.5         Yes           1          86  5372   \n",
              "3              104.80       3046.05         Yes           1          84  5003   \n",
              "4              103.70        5036.3         Yes           1          89  5340   \n",
              "...               ...           ...         ...         ...         ...   ...   \n",
              "7038            21.15        1419.4          No           0          45  5306   \n",
              "7039            84.80        1990.5          No           0          59  2140   \n",
              "7040           103.20        7362.9          No           0          71  5560   \n",
              "7041            29.60        346.45          No           0          59  2793   \n",
              "7042           105.65        6844.5          No           0          38  5097   \n",
              "\n",
              "                       Churn Reason  \n",
              "0      Competitor made better offer  \n",
              "1                             Moved  \n",
              "2                             Moved  \n",
              "3                             Moved  \n",
              "4     Competitor had better devices  \n",
              "...                             ...  \n",
              "7038                            NaN  \n",
              "7039                            NaN  \n",
              "7040                            NaN  \n",
              "7041                            NaN  \n",
              "7042                            NaN  \n",
              "\n",
              "[7043 rows x 33 columns]"
            ],
            "text/html": [
              "\n",
              "  <div id=\"df-ca9a341a-7553-4883-a528-0b09468aaac1\">\n",
              "    <div class=\"colab-df-container\">\n",
              "      <div>\n",
              "<style scoped>\n",
              "    .dataframe tbody tr th:only-of-type {\n",
              "        vertical-align: middle;\n",
              "    }\n",
              "\n",
              "    .dataframe tbody tr th {\n",
              "        vertical-align: top;\n",
              "    }\n",
              "\n",
              "    .dataframe thead th {\n",
              "        text-align: right;\n",
              "    }\n",
              "</style>\n",
              "<table border=\"1\" class=\"dataframe\">\n",
              "  <thead>\n",
              "    <tr style=\"text-align: right;\">\n",
              "      <th></th>\n",
              "      <th>CustomerID</th>\n",
              "      <th>Count</th>\n",
              "      <th>Country</th>\n",
              "      <th>State</th>\n",
              "      <th>City</th>\n",
              "      <th>Zip Code</th>\n",
              "      <th>Lat Long</th>\n",
              "      <th>Latitude</th>\n",
              "      <th>Longitude</th>\n",
              "      <th>Gender</th>\n",
              "      <th>...</th>\n",
              "      <th>Contract</th>\n",
              "      <th>Paperless Billing</th>\n",
              "      <th>Payment Method</th>\n",
              "      <th>Monthly Charges</th>\n",
              "      <th>Total Charges</th>\n",
              "      <th>Churn Label</th>\n",
              "      <th>Churn Value</th>\n",
              "      <th>Churn Score</th>\n",
              "      <th>CLTV</th>\n",
              "      <th>Churn Reason</th>\n",
              "    </tr>\n",
              "  </thead>\n",
              "  <tbody>\n",
              "    <tr>\n",
              "      <th>0</th>\n",
              "      <td>3668-QPYBK</td>\n",
              "      <td>1</td>\n",
              "      <td>United States</td>\n",
              "      <td>California</td>\n",
              "      <td>Los Angeles</td>\n",
              "      <td>90003</td>\n",
              "      <td>33.964131, -118.272783</td>\n",
              "      <td>33.964131</td>\n",
              "      <td>-118.272783</td>\n",
              "      <td>Male</td>\n",
              "      <td>...</td>\n",
              "      <td>Month-to-month</td>\n",
              "      <td>Yes</td>\n",
              "      <td>Mailed check</td>\n",
              "      <td>53.85</td>\n",
              "      <td>108.15</td>\n",
              "      <td>Yes</td>\n",
              "      <td>1</td>\n",
              "      <td>86</td>\n",
              "      <td>3239</td>\n",
              "      <td>Competitor made better offer</td>\n",
              "    </tr>\n",
              "    <tr>\n",
              "      <th>1</th>\n",
              "      <td>9237-HQITU</td>\n",
              "      <td>1</td>\n",
              "      <td>United States</td>\n",
              "      <td>California</td>\n",
              "      <td>Los Angeles</td>\n",
              "      <td>90005</td>\n",
              "      <td>34.059281, -118.30742</td>\n",
              "      <td>34.059281</td>\n",
              "      <td>-118.307420</td>\n",
              "      <td>Female</td>\n",
              "      <td>...</td>\n",
              "      <td>Month-to-month</td>\n",
              "      <td>Yes</td>\n",
              "      <td>Electronic check</td>\n",
              "      <td>70.70</td>\n",
              "      <td>151.65</td>\n",
              "      <td>Yes</td>\n",
              "      <td>1</td>\n",
              "      <td>67</td>\n",
              "      <td>2701</td>\n",
              "      <td>Moved</td>\n",
              "    </tr>\n",
              "    <tr>\n",
              "      <th>2</th>\n",
              "      <td>9305-CDSKC</td>\n",
              "      <td>1</td>\n",
              "      <td>United States</td>\n",
              "      <td>California</td>\n",
              "      <td>Los Angeles</td>\n",
              "      <td>90006</td>\n",
              "      <td>34.048013, -118.293953</td>\n",
              "      <td>34.048013</td>\n",
              "      <td>-118.293953</td>\n",
              "      <td>Female</td>\n",
              "      <td>...</td>\n",
              "      <td>Month-to-month</td>\n",
              "      <td>Yes</td>\n",
              "      <td>Electronic check</td>\n",
              "      <td>99.65</td>\n",
              "      <td>820.5</td>\n",
              "      <td>Yes</td>\n",
              "      <td>1</td>\n",
              "      <td>86</td>\n",
              "      <td>5372</td>\n",
              "      <td>Moved</td>\n",
              "    </tr>\n",
              "    <tr>\n",
              "      <th>3</th>\n",
              "      <td>7892-POOKP</td>\n",
              "      <td>1</td>\n",
              "      <td>United States</td>\n",
              "      <td>California</td>\n",
              "      <td>Los Angeles</td>\n",
              "      <td>90010</td>\n",
              "      <td>34.062125, -118.315709</td>\n",
              "      <td>34.062125</td>\n",
              "      <td>-118.315709</td>\n",
              "      <td>Female</td>\n",
              "      <td>...</td>\n",
              "      <td>Month-to-month</td>\n",
              "      <td>Yes</td>\n",
              "      <td>Electronic check</td>\n",
              "      <td>104.80</td>\n",
              "      <td>3046.05</td>\n",
              "      <td>Yes</td>\n",
              "      <td>1</td>\n",
              "      <td>84</td>\n",
              "      <td>5003</td>\n",
              "      <td>Moved</td>\n",
              "    </tr>\n",
              "    <tr>\n",
              "      <th>4</th>\n",
              "      <td>0280-XJGEX</td>\n",
              "      <td>1</td>\n",
              "      <td>United States</td>\n",
              "      <td>California</td>\n",
              "      <td>Los Angeles</td>\n",
              "      <td>90015</td>\n",
              "      <td>34.039224, -118.266293</td>\n",
              "      <td>34.039224</td>\n",
              "      <td>-118.266293</td>\n",
              "      <td>Male</td>\n",
              "      <td>...</td>\n",
              "      <td>Month-to-month</td>\n",
              "      <td>Yes</td>\n",
              "      <td>Bank transfer (automatic)</td>\n",
              "      <td>103.70</td>\n",
              "      <td>5036.3</td>\n",
              "      <td>Yes</td>\n",
              "      <td>1</td>\n",
              "      <td>89</td>\n",
              "      <td>5340</td>\n",
              "      <td>Competitor had better devices</td>\n",
              "    </tr>\n",
              "    <tr>\n",
              "      <th>...</th>\n",
              "      <td>...</td>\n",
              "      <td>...</td>\n",
              "      <td>...</td>\n",
              "      <td>...</td>\n",
              "      <td>...</td>\n",
              "      <td>...</td>\n",
              "      <td>...</td>\n",
              "      <td>...</td>\n",
              "      <td>...</td>\n",
              "      <td>...</td>\n",
              "      <td>...</td>\n",
              "      <td>...</td>\n",
              "      <td>...</td>\n",
              "      <td>...</td>\n",
              "      <td>...</td>\n",
              "      <td>...</td>\n",
              "      <td>...</td>\n",
              "      <td>...</td>\n",
              "      <td>...</td>\n",
              "      <td>...</td>\n",
              "      <td>...</td>\n",
              "    </tr>\n",
              "    <tr>\n",
              "      <th>7038</th>\n",
              "      <td>2569-WGERO</td>\n",
              "      <td>1</td>\n",
              "      <td>United States</td>\n",
              "      <td>California</td>\n",
              "      <td>Landers</td>\n",
              "      <td>92285</td>\n",
              "      <td>34.341737, -116.539416</td>\n",
              "      <td>34.341737</td>\n",
              "      <td>-116.539416</td>\n",
              "      <td>Female</td>\n",
              "      <td>...</td>\n",
              "      <td>Two year</td>\n",
              "      <td>Yes</td>\n",
              "      <td>Bank transfer (automatic)</td>\n",
              "      <td>21.15</td>\n",
              "      <td>1419.4</td>\n",
              "      <td>No</td>\n",
              "      <td>0</td>\n",
              "      <td>45</td>\n",
              "      <td>5306</td>\n",
              "      <td>NaN</td>\n",
              "    </tr>\n",
              "    <tr>\n",
              "      <th>7039</th>\n",
              "      <td>6840-RESVB</td>\n",
              "      <td>1</td>\n",
              "      <td>United States</td>\n",
              "      <td>California</td>\n",
              "      <td>Adelanto</td>\n",
              "      <td>92301</td>\n",
              "      <td>34.667815, -117.536183</td>\n",
              "      <td>34.667815</td>\n",
              "      <td>-117.536183</td>\n",
              "      <td>Male</td>\n",
              "      <td>...</td>\n",
              "      <td>One year</td>\n",
              "      <td>Yes</td>\n",
              "      <td>Mailed check</td>\n",
              "      <td>84.80</td>\n",
              "      <td>1990.5</td>\n",
              "      <td>No</td>\n",
              "      <td>0</td>\n",
              "      <td>59</td>\n",
              "      <td>2140</td>\n",
              "      <td>NaN</td>\n",
              "    </tr>\n",
              "    <tr>\n",
              "      <th>7040</th>\n",
              "      <td>2234-XADUH</td>\n",
              "      <td>1</td>\n",
              "      <td>United States</td>\n",
              "      <td>California</td>\n",
              "      <td>Amboy</td>\n",
              "      <td>92304</td>\n",
              "      <td>34.559882, -115.637164</td>\n",
              "      <td>34.559882</td>\n",
              "      <td>-115.637164</td>\n",
              "      <td>Female</td>\n",
              "      <td>...</td>\n",
              "      <td>One year</td>\n",
              "      <td>Yes</td>\n",
              "      <td>Credit card (automatic)</td>\n",
              "      <td>103.20</td>\n",
              "      <td>7362.9</td>\n",
              "      <td>No</td>\n",
              "      <td>0</td>\n",
              "      <td>71</td>\n",
              "      <td>5560</td>\n",
              "      <td>NaN</td>\n",
              "    </tr>\n",
              "    <tr>\n",
              "      <th>7041</th>\n",
              "      <td>4801-JZAZL</td>\n",
              "      <td>1</td>\n",
              "      <td>United States</td>\n",
              "      <td>California</td>\n",
              "      <td>Angelus Oaks</td>\n",
              "      <td>92305</td>\n",
              "      <td>34.1678, -116.86433</td>\n",
              "      <td>34.167800</td>\n",
              "      <td>-116.864330</td>\n",
              "      <td>Female</td>\n",
              "      <td>...</td>\n",
              "      <td>Month-to-month</td>\n",
              "      <td>Yes</td>\n",
              "      <td>Electronic check</td>\n",
              "      <td>29.60</td>\n",
              "      <td>346.45</td>\n",
              "      <td>No</td>\n",
              "      <td>0</td>\n",
              "      <td>59</td>\n",
              "      <td>2793</td>\n",
              "      <td>NaN</td>\n",
              "    </tr>\n",
              "    <tr>\n",
              "      <th>7042</th>\n",
              "      <td>3186-AJIEK</td>\n",
              "      <td>1</td>\n",
              "      <td>United States</td>\n",
              "      <td>California</td>\n",
              "      <td>Apple Valley</td>\n",
              "      <td>92308</td>\n",
              "      <td>34.424926, -117.184503</td>\n",
              "      <td>34.424926</td>\n",
              "      <td>-117.184503</td>\n",
              "      <td>Male</td>\n",
              "      <td>...</td>\n",
              "      <td>Two year</td>\n",
              "      <td>Yes</td>\n",
              "      <td>Bank transfer (automatic)</td>\n",
              "      <td>105.65</td>\n",
              "      <td>6844.5</td>\n",
              "      <td>No</td>\n",
              "      <td>0</td>\n",
              "      <td>38</td>\n",
              "      <td>5097</td>\n",
              "      <td>NaN</td>\n",
              "    </tr>\n",
              "  </tbody>\n",
              "</table>\n",
              "<p>7043 rows × 33 columns</p>\n",
              "</div>\n",
              "      <button class=\"colab-df-convert\" onclick=\"convertToInteractive('df-ca9a341a-7553-4883-a528-0b09468aaac1')\"\n",
              "              title=\"Convert this dataframe to an interactive table.\"\n",
              "              style=\"display:none;\">\n",
              "        \n",
              "  <svg xmlns=\"http://www.w3.org/2000/svg\" height=\"24px\"viewBox=\"0 0 24 24\"\n",
              "       width=\"24px\">\n",
              "    <path d=\"M0 0h24v24H0V0z\" fill=\"none\"/>\n",
              "    <path d=\"M18.56 5.44l.94 2.06.94-2.06 2.06-.94-2.06-.94-.94-2.06-.94 2.06-2.06.94zm-11 1L8.5 8.5l.94-2.06 2.06-.94-2.06-.94L8.5 2.5l-.94 2.06-2.06.94zm10 10l.94 2.06.94-2.06 2.06-.94-2.06-.94-.94-2.06-.94 2.06-2.06.94z\"/><path d=\"M17.41 7.96l-1.37-1.37c-.4-.4-.92-.59-1.43-.59-.52 0-1.04.2-1.43.59L10.3 9.45l-7.72 7.72c-.78.78-.78 2.05 0 2.83L4 21.41c.39.39.9.59 1.41.59.51 0 1.02-.2 1.41-.59l7.78-7.78 2.81-2.81c.8-.78.8-2.07 0-2.86zM5.41 20L4 18.59l7.72-7.72 1.47 1.35L5.41 20z\"/>\n",
              "  </svg>\n",
              "      </button>\n",
              "      \n",
              "  <style>\n",
              "    .colab-df-container {\n",
              "      display:flex;\n",
              "      flex-wrap:wrap;\n",
              "      gap: 12px;\n",
              "    }\n",
              "\n",
              "    .colab-df-convert {\n",
              "      background-color: #E8F0FE;\n",
              "      border: none;\n",
              "      border-radius: 50%;\n",
              "      cursor: pointer;\n",
              "      display: none;\n",
              "      fill: #1967D2;\n",
              "      height: 32px;\n",
              "      padding: 0 0 0 0;\n",
              "      width: 32px;\n",
              "    }\n",
              "\n",
              "    .colab-df-convert:hover {\n",
              "      background-color: #E2EBFA;\n",
              "      box-shadow: 0px 1px 2px rgba(60, 64, 67, 0.3), 0px 1px 3px 1px rgba(60, 64, 67, 0.15);\n",
              "      fill: #174EA6;\n",
              "    }\n",
              "\n",
              "    [theme=dark] .colab-df-convert {\n",
              "      background-color: #3B4455;\n",
              "      fill: #D2E3FC;\n",
              "    }\n",
              "\n",
              "    [theme=dark] .colab-df-convert:hover {\n",
              "      background-color: #434B5C;\n",
              "      box-shadow: 0px 1px 3px 1px rgba(0, 0, 0, 0.15);\n",
              "      filter: drop-shadow(0px 1px 2px rgba(0, 0, 0, 0.3));\n",
              "      fill: #FFFFFF;\n",
              "    }\n",
              "  </style>\n",
              "\n",
              "      <script>\n",
              "        const buttonEl =\n",
              "          document.querySelector('#df-ca9a341a-7553-4883-a528-0b09468aaac1 button.colab-df-convert');\n",
              "        buttonEl.style.display =\n",
              "          google.colab.kernel.accessAllowed ? 'block' : 'none';\n",
              "\n",
              "        async function convertToInteractive(key) {\n",
              "          const element = document.querySelector('#df-ca9a341a-7553-4883-a528-0b09468aaac1');\n",
              "          const dataTable =\n",
              "            await google.colab.kernel.invokeFunction('convertToInteractive',\n",
              "                                                     [key], {});\n",
              "          if (!dataTable) return;\n",
              "\n",
              "          const docLinkHtml = 'Like what you see? Visit the ' +\n",
              "            '<a target=\"_blank\" href=https://colab.research.google.com/notebooks/data_table.ipynb>data table notebook</a>'\n",
              "            + ' to learn more about interactive tables.';\n",
              "          element.innerHTML = '';\n",
              "          dataTable['output_type'] = 'display_data';\n",
              "          await google.colab.output.renderOutput(dataTable, element);\n",
              "          const docLink = document.createElement('div');\n",
              "          docLink.innerHTML = docLinkHtml;\n",
              "          element.appendChild(docLink);\n",
              "        }\n",
              "      </script>\n",
              "    </div>\n",
              "  </div>\n",
              "  "
            ]
          },
          "metadata": {},
          "execution_count": 22
        }
      ]
    },
    {
      "cell_type": "code",
      "source": [
        "df.info()\n",
        "\n"
      ],
      "metadata": {
        "colab": {
          "base_uri": "https://localhost:8080/"
        },
        "id": "RviYCt0K8W9b",
        "outputId": "22efc1ba-d5f1-460b-f348-a220cabecc3b"
      },
      "execution_count": 29,
      "outputs": [
        {
          "output_type": "stream",
          "name": "stdout",
          "text": [
            "<class 'pandas.core.frame.DataFrame'>\n",
            "RangeIndex: 7043 entries, 0 to 7042\n",
            "Data columns (total 33 columns):\n",
            " #   Column             Non-Null Count  Dtype  \n",
            "---  ------             --------------  -----  \n",
            " 0   CustomerID         7043 non-null   object \n",
            " 1   Count              7043 non-null   int64  \n",
            " 2   Country            7043 non-null   object \n",
            " 3   State              7043 non-null   object \n",
            " 4   City               7043 non-null   object \n",
            " 5   Zip Code           7043 non-null   int64  \n",
            " 6   Lat Long           7043 non-null   object \n",
            " 7   Latitude           7043 non-null   float64\n",
            " 8   Longitude          7043 non-null   float64\n",
            " 9   Gender             7043 non-null   object \n",
            " 10  Senior Citizen     7043 non-null   object \n",
            " 11  Partner            7043 non-null   object \n",
            " 12  Dependents         7043 non-null   object \n",
            " 13  Tenure Months      7043 non-null   int64  \n",
            " 14  Phone Service      7043 non-null   object \n",
            " 15  Multiple Lines     7043 non-null   object \n",
            " 16  Internet Service   7043 non-null   object \n",
            " 17  Online Security    7043 non-null   object \n",
            " 18  Online Backup      7043 non-null   object \n",
            " 19  Device Protection  7043 non-null   object \n",
            " 20  Tech Support       7043 non-null   object \n",
            " 21  Streaming TV       7043 non-null   object \n",
            " 22  Streaming Movies   7043 non-null   object \n",
            " 23  Contract           7043 non-null   object \n",
            " 24  Paperless Billing  7043 non-null   object \n",
            " 25  Payment Method     7043 non-null   object \n",
            " 26  Monthly Charges    7043 non-null   float64\n",
            " 27  Total Charges      7043 non-null   object \n",
            " 28  Churn Label        7043 non-null   object \n",
            " 29  Churn Value        7043 non-null   int64  \n",
            " 30  Churn Score        7043 non-null   int64  \n",
            " 31  CLTV               7043 non-null   int64  \n",
            " 32  Churn Reason       1869 non-null   object \n",
            "dtypes: float64(3), int64(6), object(24)\n",
            "memory usage: 1.8+ MB\n"
          ]
        }
      ]
    },
    {
      "cell_type": "markdown",
      "source": [
        "Generally Data types are divided into Qualitative data and Quantitative data.\n",
        "\n",
        "**Qualitative Data** :-It is categorical data type and if further classified Nominal and Ordinal data.\n",
        "\n",
        "**Quantitative Data** :- It is Numerical data type and is further classified as Discrete and continuous data.\n",
        "\n",
        "Let's understand from the given data set.\n",
        "\n",
        "* Columns like Country, Gender, Tenure months, contract etc. contains categorical data and can be called as Quantitative data type.\n",
        "\n",
        "* Columns like Customer ID, Count, Zip code, Latitude, Longitude etc. contains numerical value and can be called as Qualitative data type.\n",
        "\n",
        "Python consists of 4 Data types namely,\n",
        "* Int - Integer values\n",
        "* Float - Decimal values\n",
        "* Str - String type(collection of on or more characters)\n",
        "* Char - Character type\n",
        "* Boolean - True or False\n",
        "\n",
        "The above data consists columns with integer, string , character, boolean values like Gender, contract are read as object type data.\n",
        "only float columns like Count, Zip code, Latitude, Longiotude etc. are read as Float type data.\n",
        "\n"
      ],
      "metadata": {
        "id": "NwZmMkk749a6"
      }
    },
    {
      "cell_type": "markdown",
      "source": [
        "**Q2.Please apply appropriate statistical measures using python based on data types.**"
      ],
      "metadata": {
        "id": "jQe7PbEwBTUT"
      }
    },
    {
      "cell_type": "code",
      "source": [
        "df.describe()"
      ],
      "metadata": {
        "colab": {
          "base_uri": "https://localhost:8080/",
          "height": 344
        },
        "id": "8ONv_HruB-aM",
        "outputId": "fc8dc804-2adb-4b7d-d322-9420525ea9c6"
      },
      "execution_count": null,
      "outputs": [
        {
          "output_type": "execute_result",
          "data": {
            "text/plain": [
              "        Count      Zip Code     Latitude    Longitude  Tenure Months  \\\n",
              "count  7043.0   7043.000000  7043.000000  7043.000000    7043.000000   \n",
              "mean      1.0  93521.964646    36.282441  -119.798880      32.371149   \n",
              "std       0.0   1865.794555     2.455723     2.157889      24.559481   \n",
              "min       1.0  90001.000000    32.555828  -124.301372       0.000000   \n",
              "25%       1.0  92102.000000    34.030915  -121.815412       9.000000   \n",
              "50%       1.0  93552.000000    36.391777  -119.730885      29.000000   \n",
              "75%       1.0  95351.000000    38.224869  -118.043237      55.000000   \n",
              "max       1.0  96161.000000    41.962127  -114.192901      72.000000   \n",
              "\n",
              "       Monthly Charges  Churn Value  Churn Score         CLTV  \n",
              "count      7043.000000  7043.000000  7043.000000  7043.000000  \n",
              "mean         64.761692     0.265370    58.699418  4400.295755  \n",
              "std          30.090047     0.441561    21.525131  1183.057152  \n",
              "min          18.250000     0.000000     5.000000  2003.000000  \n",
              "25%          35.500000     0.000000    40.000000  3469.000000  \n",
              "50%          70.350000     0.000000    61.000000  4527.000000  \n",
              "75%          89.850000     1.000000    75.000000  5380.500000  \n",
              "max         118.750000     1.000000   100.000000  6500.000000  "
            ],
            "text/html": [
              "\n",
              "  <div id=\"df-37e71c14-f6a7-487c-86be-e8ad0c0d3be8\">\n",
              "    <div class=\"colab-df-container\">\n",
              "      <div>\n",
              "<style scoped>\n",
              "    .dataframe tbody tr th:only-of-type {\n",
              "        vertical-align: middle;\n",
              "    }\n",
              "\n",
              "    .dataframe tbody tr th {\n",
              "        vertical-align: top;\n",
              "    }\n",
              "\n",
              "    .dataframe thead th {\n",
              "        text-align: right;\n",
              "    }\n",
              "</style>\n",
              "<table border=\"1\" class=\"dataframe\">\n",
              "  <thead>\n",
              "    <tr style=\"text-align: right;\">\n",
              "      <th></th>\n",
              "      <th>Count</th>\n",
              "      <th>Zip Code</th>\n",
              "      <th>Latitude</th>\n",
              "      <th>Longitude</th>\n",
              "      <th>Tenure Months</th>\n",
              "      <th>Monthly Charges</th>\n",
              "      <th>Churn Value</th>\n",
              "      <th>Churn Score</th>\n",
              "      <th>CLTV</th>\n",
              "    </tr>\n",
              "  </thead>\n",
              "  <tbody>\n",
              "    <tr>\n",
              "      <th>count</th>\n",
              "      <td>7043.0</td>\n",
              "      <td>7043.000000</td>\n",
              "      <td>7043.000000</td>\n",
              "      <td>7043.000000</td>\n",
              "      <td>7043.000000</td>\n",
              "      <td>7043.000000</td>\n",
              "      <td>7043.000000</td>\n",
              "      <td>7043.000000</td>\n",
              "      <td>7043.000000</td>\n",
              "    </tr>\n",
              "    <tr>\n",
              "      <th>mean</th>\n",
              "      <td>1.0</td>\n",
              "      <td>93521.964646</td>\n",
              "      <td>36.282441</td>\n",
              "      <td>-119.798880</td>\n",
              "      <td>32.371149</td>\n",
              "      <td>64.761692</td>\n",
              "      <td>0.265370</td>\n",
              "      <td>58.699418</td>\n",
              "      <td>4400.295755</td>\n",
              "    </tr>\n",
              "    <tr>\n",
              "      <th>std</th>\n",
              "      <td>0.0</td>\n",
              "      <td>1865.794555</td>\n",
              "      <td>2.455723</td>\n",
              "      <td>2.157889</td>\n",
              "      <td>24.559481</td>\n",
              "      <td>30.090047</td>\n",
              "      <td>0.441561</td>\n",
              "      <td>21.525131</td>\n",
              "      <td>1183.057152</td>\n",
              "    </tr>\n",
              "    <tr>\n",
              "      <th>min</th>\n",
              "      <td>1.0</td>\n",
              "      <td>90001.000000</td>\n",
              "      <td>32.555828</td>\n",
              "      <td>-124.301372</td>\n",
              "      <td>0.000000</td>\n",
              "      <td>18.250000</td>\n",
              "      <td>0.000000</td>\n",
              "      <td>5.000000</td>\n",
              "      <td>2003.000000</td>\n",
              "    </tr>\n",
              "    <tr>\n",
              "      <th>25%</th>\n",
              "      <td>1.0</td>\n",
              "      <td>92102.000000</td>\n",
              "      <td>34.030915</td>\n",
              "      <td>-121.815412</td>\n",
              "      <td>9.000000</td>\n",
              "      <td>35.500000</td>\n",
              "      <td>0.000000</td>\n",
              "      <td>40.000000</td>\n",
              "      <td>3469.000000</td>\n",
              "    </tr>\n",
              "    <tr>\n",
              "      <th>50%</th>\n",
              "      <td>1.0</td>\n",
              "      <td>93552.000000</td>\n",
              "      <td>36.391777</td>\n",
              "      <td>-119.730885</td>\n",
              "      <td>29.000000</td>\n",
              "      <td>70.350000</td>\n",
              "      <td>0.000000</td>\n",
              "      <td>61.000000</td>\n",
              "      <td>4527.000000</td>\n",
              "    </tr>\n",
              "    <tr>\n",
              "      <th>75%</th>\n",
              "      <td>1.0</td>\n",
              "      <td>95351.000000</td>\n",
              "      <td>38.224869</td>\n",
              "      <td>-118.043237</td>\n",
              "      <td>55.000000</td>\n",
              "      <td>89.850000</td>\n",
              "      <td>1.000000</td>\n",
              "      <td>75.000000</td>\n",
              "      <td>5380.500000</td>\n",
              "    </tr>\n",
              "    <tr>\n",
              "      <th>max</th>\n",
              "      <td>1.0</td>\n",
              "      <td>96161.000000</td>\n",
              "      <td>41.962127</td>\n",
              "      <td>-114.192901</td>\n",
              "      <td>72.000000</td>\n",
              "      <td>118.750000</td>\n",
              "      <td>1.000000</td>\n",
              "      <td>100.000000</td>\n",
              "      <td>6500.000000</td>\n",
              "    </tr>\n",
              "  </tbody>\n",
              "</table>\n",
              "</div>\n",
              "      <button class=\"colab-df-convert\" onclick=\"convertToInteractive('df-37e71c14-f6a7-487c-86be-e8ad0c0d3be8')\"\n",
              "              title=\"Convert this dataframe to an interactive table.\"\n",
              "              style=\"display:none;\">\n",
              "        \n",
              "  <svg xmlns=\"http://www.w3.org/2000/svg\" height=\"24px\"viewBox=\"0 0 24 24\"\n",
              "       width=\"24px\">\n",
              "    <path d=\"M0 0h24v24H0V0z\" fill=\"none\"/>\n",
              "    <path d=\"M18.56 5.44l.94 2.06.94-2.06 2.06-.94-2.06-.94-.94-2.06-.94 2.06-2.06.94zm-11 1L8.5 8.5l.94-2.06 2.06-.94-2.06-.94L8.5 2.5l-.94 2.06-2.06.94zm10 10l.94 2.06.94-2.06 2.06-.94-2.06-.94-.94-2.06-.94 2.06-2.06.94z\"/><path d=\"M17.41 7.96l-1.37-1.37c-.4-.4-.92-.59-1.43-.59-.52 0-1.04.2-1.43.59L10.3 9.45l-7.72 7.72c-.78.78-.78 2.05 0 2.83L4 21.41c.39.39.9.59 1.41.59.51 0 1.02-.2 1.41-.59l7.78-7.78 2.81-2.81c.8-.78.8-2.07 0-2.86zM5.41 20L4 18.59l7.72-7.72 1.47 1.35L5.41 20z\"/>\n",
              "  </svg>\n",
              "      </button>\n",
              "      \n",
              "  <style>\n",
              "    .colab-df-container {\n",
              "      display:flex;\n",
              "      flex-wrap:wrap;\n",
              "      gap: 12px;\n",
              "    }\n",
              "\n",
              "    .colab-df-convert {\n",
              "      background-color: #E8F0FE;\n",
              "      border: none;\n",
              "      border-radius: 50%;\n",
              "      cursor: pointer;\n",
              "      display: none;\n",
              "      fill: #1967D2;\n",
              "      height: 32px;\n",
              "      padding: 0 0 0 0;\n",
              "      width: 32px;\n",
              "    }\n",
              "\n",
              "    .colab-df-convert:hover {\n",
              "      background-color: #E2EBFA;\n",
              "      box-shadow: 0px 1px 2px rgba(60, 64, 67, 0.3), 0px 1px 3px 1px rgba(60, 64, 67, 0.15);\n",
              "      fill: #174EA6;\n",
              "    }\n",
              "\n",
              "    [theme=dark] .colab-df-convert {\n",
              "      background-color: #3B4455;\n",
              "      fill: #D2E3FC;\n",
              "    }\n",
              "\n",
              "    [theme=dark] .colab-df-convert:hover {\n",
              "      background-color: #434B5C;\n",
              "      box-shadow: 0px 1px 3px 1px rgba(0, 0, 0, 0.15);\n",
              "      filter: drop-shadow(0px 1px 2px rgba(0, 0, 0, 0.3));\n",
              "      fill: #FFFFFF;\n",
              "    }\n",
              "  </style>\n",
              "\n",
              "      <script>\n",
              "        const buttonEl =\n",
              "          document.querySelector('#df-37e71c14-f6a7-487c-86be-e8ad0c0d3be8 button.colab-df-convert');\n",
              "        buttonEl.style.display =\n",
              "          google.colab.kernel.accessAllowed ? 'block' : 'none';\n",
              "\n",
              "        async function convertToInteractive(key) {\n",
              "          const element = document.querySelector('#df-37e71c14-f6a7-487c-86be-e8ad0c0d3be8');\n",
              "          const dataTable =\n",
              "            await google.colab.kernel.invokeFunction('convertToInteractive',\n",
              "                                                     [key], {});\n",
              "          if (!dataTable) return;\n",
              "\n",
              "          const docLinkHtml = 'Like what you see? Visit the ' +\n",
              "            '<a target=\"_blank\" href=https://colab.research.google.com/notebooks/data_table.ipynb>data table notebook</a>'\n",
              "            + ' to learn more about interactive tables.';\n",
              "          element.innerHTML = '';\n",
              "          dataTable['output_type'] = 'display_data';\n",
              "          await google.colab.output.renderOutput(dataTable, element);\n",
              "          const docLink = document.createElement('div');\n",
              "          docLink.innerHTML = docLinkHtml;\n",
              "          element.appendChild(docLink);\n",
              "        }\n",
              "      </script>\n",
              "    </div>\n",
              "  </div>\n",
              "  "
            ]
          },
          "metadata": {},
          "execution_count": 10
        }
      ]
    },
    {
      "cell_type": "markdown",
      "source": [
        "## From the above output, we can measure Count, mean, std, min, 25%, 50%, 50%, 75%, max values of the columns which are having Float data type."
      ],
      "metadata": {
        "id": "uJbHHzTCDoXc"
      }
    },
    {
      "cell_type": "markdown",
      "source": [
        "Q3: What is the percentage of females and senior citizens in this data set? Please create appropriate plots and explain the plots.\n",
        "\n"
      ],
      "metadata": {
        "id": "IAmA4jA3QM5i"
      }
    },
    {
      "cell_type": "code",
      "source": [
        "df.loc[:,('Gender','Senior Citizen')]\n",
        "df1=df['Gender'].value_counts('Female')*100\n",
        "df1.plot(kind='pie', autopct='%.2f')\n"
      ],
      "metadata": {
        "colab": {
          "base_uri": "https://localhost:8080/",
          "height": 265
        },
        "id": "KgqCfhnHOPcv",
        "outputId": "b30e5255-d0bf-44ad-a2a1-d1bbf0ba87d8"
      },
      "execution_count": null,
      "outputs": [
        {
          "output_type": "execute_result",
          "data": {
            "text/plain": [
              "<matplotlib.axes._subplots.AxesSubplot at 0x7f205bfd8a10>"
            ]
          },
          "metadata": {},
          "execution_count": 11
        },
        {
          "output_type": "display_data",
          "data": {
            "text/plain": [
              "<Figure size 432x288 with 1 Axes>"
            ],
            "image/png": "[encoded data removed]"
          },
          "metadata": {}
        }
      ]
    },
    {
      "cell_type": "markdown",
      "source": [
        "From the above pie chart we can see the percentage of females in Gender column."
      ],
      "metadata": {
        "id": "oWHcjIhhAjkd"
      }
    },
    {
      "cell_type": "code",
      "source": [
        "df.loc[:,('Gender','Senior Citizen')]\n",
        "data_female=df[df['Gender']=='Female']\n",
        "female_senior=data_female['Senior Citizen'].value_counts('Yes')\n",
        "female_senior.plot(kind='pie', autopct='%.2f')"
      ],
      "metadata": {
        "colab": {
          "base_uri": "https://localhost:8080/",
          "height": 265
        },
        "id": "AgiCOxAEuQmG",
        "outputId": "b66688b9-4f03-4e52-be26-2a025bb73374"
      },
      "execution_count": null,
      "outputs": [
        {
          "output_type": "execute_result",
          "data": {
            "text/plain": [
              "<matplotlib.axes._subplots.AxesSubplot at 0x7f205b9c0e10>"
            ]
          },
          "metadata": {},
          "execution_count": 12
        },
        {
          "output_type": "display_data",
          "data": {
            "text/plain": [
              "<Figure size 432x288 with 1 Axes>"
            ],
            "image/png": "[encoded data removed]"
          },
          "metadata": {}
        }
      ]
    },
    {
      "cell_type": "markdown",
      "source": [
        "From the above pie chart we can see the percentage of female senior citizens."
      ],
      "metadata": {
        "id": "YQBeJeu7Awke"
      }
    },
    {
      "cell_type": "markdown",
      "source": [
        "**Q4.Please create an appropriate plot to examine the distribution of the tenure month column and explain the distribution. Based on distribution, perform appropriate statistical measures. Please also explain if the variable is symmetric or skewed. Please calculate it. Explain everything as asked.**\n"
      ],
      "metadata": {
        "id": "BlsXFQ8BBEEY"
      }
    },
    {
      "cell_type": "code",
      "source": [
        "df=pd.read_excel('Telco_customer_churn.xlsx', usecols=['Tenure Months'])\n",
        "\n",
        "#Histogram is appropriate plot used for distribution of numerical values.\n",
        "sns.histplot(x='Tenure Months',data=df)\n",
        "\n",
        "#Below are the function used to perform statistical measures based on the above distribution. \n",
        "print('Mean=',df.mean())\n",
        "print('Median=',df.median())\n",
        "print('Mode=',df.mode())\n",
        "print('std=',df.std())\n",
        "print('Variance=',df.var())\n",
        "print('skewness value',df.skew())"
      ],
      "metadata": {
        "colab": {
          "base_uri": "https://localhost:8080/",
          "height": 487
        },
        "id": "fnRha6haBZ0f",
        "outputId": "0de7b780-4059-4cad-bf4c-b8aa1775cab2"
      },
      "execution_count": null,
      "outputs": [
        {
          "output_type": "stream",
          "name": "stdout",
          "text": [
            "Mean= Tenure Months    32.371149\n",
            "dtype: float64\n",
            "Median= Tenure Months    29.0\n",
            "dtype: float64\n",
            "Mode=    Tenure Months\n",
            "0            1.0\n",
            "std= Tenure Months    24.559481\n",
            "dtype: float64\n",
            "Variance= Tenure Months    603.168108\n",
            "dtype: float64\n",
            "skewness value Tenure Months    0.23954\n",
            "dtype: float64\n"
          ]
        },
        {
          "output_type": "display_data",
          "data": {
            "text/plain": [
              "<Figure size 432x288 with 1 Axes>"
            ],
            "image/png": "[encoded data removed]"
          },
          "metadata": {
            "needs_background": "light"
          }
        }
      ]
    },
    {
      "cell_type": "markdown",
      "source": [
        "From the Histogram, it is understood that customers are with tenure of 0-10 months are more and ciunt has been gradually decreased for the tenure of 10-60 months and slightly inceased for the tenure of 60-70 months period. "
      ],
      "metadata": {
        "id": "t1uxh-CAM2a4"
      }
    },
    {
      "cell_type": "markdown",
      "source": [
        "Skew() is used to calculate the skewness of the numerical variable which measures the symmetry or lack of it. The skewness value can be positive , negative or undefined. The perfect symmetrical distribution will have same mean,median,mode values.\n",
        "\n",
        "The skewness value can be interpreted as \n",
        "* Highly skewed - skewness value is <-1 or >+1.\n",
        "* Moderately skewed - skewness value is between -1 & -0.5 or +0.5 and +1.\n",
        "* Symmetrical - skewness value lies between -0.5 & +0.5.\n",
        "\n",
        "Hence, the given numerical variable of column 'Tenure Months' is symmetrical."
      ],
      "metadata": {
        "id": "5bZpktn-e_J8"
      }
    },
    {
      "cell_type": "markdown",
      "source": [
        "**Q5: Please convert all binary columns into 0 and 1 using appropriate programming constructs, not one by one.**\n",
        "\n"
      ],
      "metadata": {
        "id": "ehaJ367TkP_u"
      }
    },
    {
      "cell_type": "code",
      "source": [
        "#Binary columns available in the given dataframe are 'Gender' & 'Columns'\n",
        "data_binary=pd.read_excel('Telco_customer_churn.xlsx', usecols = ['Gender','Senior Citizen'])\n",
        "\n",
        "#Replace Gender column as 'Female=0' and 'Male=1' and give inplace as true to affect the given statement in the Dataframe   \n",
        "data_binary['Gender'].replace(['Female','Male'],[0,1], inplace=True)\n",
        "\n",
        "#Replace Senior Citizen column as 'Yes=1' and 'No=0' and give inplace as true to affect the given statement in the Dataframe  \n",
        "data_binary['Senior Citizen'].replace(['Yes','No'],[1,0], inplace=True)\n",
        "data_binary"
      ],
      "metadata": {
        "colab": {
          "base_uri": "https://localhost:8080/",
          "height": 423
        },
        "id": "s1zDPD71iZtT",
        "outputId": "0c7d4ff7-8b39-42ef-bdd3-2d4d3e78ea1e"
      },
      "execution_count": null,
      "outputs": [
        {
          "output_type": "execute_result",
          "data": {
            "text/plain": [
              "      Gender  Senior Citizen\n",
              "0          1               0\n",
              "1          0               0\n",
              "2          0               0\n",
              "3          0               0\n",
              "4          1               0\n",
              "...      ...             ...\n",
              "7038       0               0\n",
              "7039       1               0\n",
              "7040       0               0\n",
              "7041       0               0\n",
              "7042       1               0\n",
              "\n",
              "[7043 rows x 2 columns]"
            ],
            "text/html": [
              "\n",
              "  <div id=\"df-14cb9859-c6a1-4b54-a2b4-8dd21afc903f\">\n",
              "    <div class=\"colab-df-container\">\n",
              "      <div>\n",
              "<style scoped>\n",
              "    .dataframe tbody tr th:only-of-type {\n",
              "        vertical-align: middle;\n",
              "    }\n",
              "\n",
              "    .dataframe tbody tr th {\n",
              "        vertical-align: top;\n",
              "    }\n",
              "\n",
              "    .dataframe thead th {\n",
              "        text-align: right;\n",
              "    }\n",
              "</style>\n",
              "<table border=\"1\" class=\"dataframe\">\n",
              "  <thead>\n",
              "    <tr style=\"text-align: right;\">\n",
              "      <th></th>\n",
              "      <th>Gender</th>\n",
              "      <th>Senior Citizen</th>\n",
              "    </tr>\n",
              "  </thead>\n",
              "  <tbody>\n",
              "    <tr>\n",
              "      <th>0</th>\n",
              "      <td>1</td>\n",
              "      <td>0</td>\n",
              "    </tr>\n",
              "    <tr>\n",
              "      <th>1</th>\n",
              "      <td>0</td>\n",
              "      <td>0</td>\n",
              "    </tr>\n",
              "    <tr>\n",
              "      <th>2</th>\n",
              "      <td>0</td>\n",
              "      <td>0</td>\n",
              "    </tr>\n",
              "    <tr>\n",
              "      <th>3</th>\n",
              "      <td>0</td>\n",
              "      <td>0</td>\n",
              "    </tr>\n",
              "    <tr>\n",
              "      <th>4</th>\n",
              "      <td>1</td>\n",
              "      <td>0</td>\n",
              "    </tr>\n",
              "    <tr>\n",
              "      <th>...</th>\n",
              "      <td>...</td>\n",
              "      <td>...</td>\n",
              "    </tr>\n",
              "    <tr>\n",
              "      <th>7038</th>\n",
              "      <td>0</td>\n",
              "      <td>0</td>\n",
              "    </tr>\n",
              "    <tr>\n",
              "      <th>7039</th>\n",
              "      <td>1</td>\n",
              "      <td>0</td>\n",
              "    </tr>\n",
              "    <tr>\n",
              "      <th>7040</th>\n",
              "      <td>0</td>\n",
              "      <td>0</td>\n",
              "    </tr>\n",
              "    <tr>\n",
              "      <th>7041</th>\n",
              "      <td>0</td>\n",
              "      <td>0</td>\n",
              "    </tr>\n",
              "    <tr>\n",
              "      <th>7042</th>\n",
              "      <td>1</td>\n",
              "      <td>0</td>\n",
              "    </tr>\n",
              "  </tbody>\n",
              "</table>\n",
              "<p>7043 rows × 2 columns</p>\n",
              "</div>\n",
              "      <button class=\"colab-df-convert\" onclick=\"convertToInteractive('df-14cb9859-c6a1-4b54-a2b4-8dd21afc903f')\"\n",
              "              title=\"Convert this dataframe to an interactive table.\"\n",
              "              style=\"display:none;\">\n",
              "        \n",
              "  <svg xmlns=\"http://www.w3.org/2000/svg\" height=\"24px\"viewBox=\"0 0 24 24\"\n",
              "       width=\"24px\">\n",
              "    <path d=\"M0 0h24v24H0V0z\" fill=\"none\"/>\n",
              "    <path d=\"M18.56 5.44l.94 2.06.94-2.06 2.06-.94-2.06-.94-.94-2.06-.94 2.06-2.06.94zm-11 1L8.5 8.5l.94-2.06 2.06-.94-2.06-.94L8.5 2.5l-.94 2.06-2.06.94zm10 10l.94 2.06.94-2.06 2.06-.94-2.06-.94-.94-2.06-.94 2.06-2.06.94z\"/><path d=\"M17.41 7.96l-1.37-1.37c-.4-.4-.92-.59-1.43-.59-.52 0-1.04.2-1.43.59L10.3 9.45l-7.72 7.72c-.78.78-.78 2.05 0 2.83L4 21.41c.39.39.9.59 1.41.59.51 0 1.02-.2 1.41-.59l7.78-7.78 2.81-2.81c.8-.78.8-2.07 0-2.86zM5.41 20L4 18.59l7.72-7.72 1.47 1.35L5.41 20z\"/>\n",
              "  </svg>\n",
              "      </button>\n",
              "      \n",
              "  <style>\n",
              "    .colab-df-container {\n",
              "      display:flex;\n",
              "      flex-wrap:wrap;\n",
              "      gap: 12px;\n",
              "    }\n",
              "\n",
              "    .colab-df-convert {\n",
              "      background-color: #E8F0FE;\n",
              "      border: none;\n",
              "      border-radius: 50%;\n",
              "      cursor: pointer;\n",
              "      display: none;\n",
              "      fill: #1967D2;\n",
              "      height: 32px;\n",
              "      padding: 0 0 0 0;\n",
              "      width: 32px;\n",
              "    }\n",
              "\n",
              "    .colab-df-convert:hover {\n",
              "      background-color: #E2EBFA;\n",
              "      box-shadow: 0px 1px 2px rgba(60, 64, 67, 0.3), 0px 1px 3px 1px rgba(60, 64, 67, 0.15);\n",
              "      fill: #174EA6;\n",
              "    }\n",
              "\n",
              "    [theme=dark] .colab-df-convert {\n",
              "      background-color: #3B4455;\n",
              "      fill: #D2E3FC;\n",
              "    }\n",
              "\n",
              "    [theme=dark] .colab-df-convert:hover {\n",
              "      background-color: #434B5C;\n",
              "      box-shadow: 0px 1px 3px 1px rgba(0, 0, 0, 0.15);\n",
              "      filter: drop-shadow(0px 1px 2px rgba(0, 0, 0, 0.3));\n",
              "      fill: #FFFFFF;\n",
              "    }\n",
              "  </style>\n",
              "\n",
              "      <script>\n",
              "        const buttonEl =\n",
              "          document.querySelector('#df-14cb9859-c6a1-4b54-a2b4-8dd21afc903f button.colab-df-convert');\n",
              "        buttonEl.style.display =\n",
              "          google.colab.kernel.accessAllowed ? 'block' : 'none';\n",
              "\n",
              "        async function convertToInteractive(key) {\n",
              "          const element = document.querySelector('#df-14cb9859-c6a1-4b54-a2b4-8dd21afc903f');\n",
              "          const dataTable =\n",
              "            await google.colab.kernel.invokeFunction('convertToInteractive',\n",
              "                                                     [key], {});\n",
              "          if (!dataTable) return;\n",
              "\n",
              "          const docLinkHtml = 'Like what you see? Visit the ' +\n",
              "            '<a target=\"_blank\" href=https://colab.research.google.com/notebooks/data_table.ipynb>data table notebook</a>'\n",
              "            + ' to learn more about interactive tables.';\n",
              "          element.innerHTML = '';\n",
              "          dataTable['output_type'] = 'display_data';\n",
              "          await google.colab.output.renderOutput(dataTable, element);\n",
              "          const docLink = document.createElement('div');\n",
              "          docLink.innerHTML = docLinkHtml;\n",
              "          element.appendChild(docLink);\n",
              "        }\n",
              "      </script>\n",
              "    </div>\n",
              "  </div>\n",
              "  "
            ]
          },
          "metadata": {},
          "execution_count": 31
        }
      ]
    },
    {
      "cell_type": "markdown",
      "source": [
        "The above output shows the converted values of binary columns 'Gender' & 'Senior Citizen' to 0 & 1 respectively."
      ],
      "metadata": {
        "id": "QPGWPApoDwZ5"
      }
    },
    {
      "cell_type": "markdown",
      "source": [
        "**Q6: Please examine the distribution of monthly charges between males and females using box plots. Please explain the results also.** \n",
        "\n"
      ],
      "metadata": {
        "id": "hI9Sl0z8ESMl"
      }
    },
    {
      "cell_type": "code",
      "source": [
        "data_plot=pd.read_excel('Telco_customer_churn.xlsx', usecols = ['Gender','Monthly Charges'])\n",
        "sns.catplot(x='Gender',y='Monthly Charges',hue='Gender',kind='box', data=data_plot, palette='Paired')"
      ],
      "metadata": {
        "id": "0qllhREnEJ7X",
        "colab": {
          "base_uri": "https://localhost:8080/",
          "height": 386
        },
        "outputId": "0badbdf9-27d8-4beb-919c-ccc10880c614"
      },
      "execution_count": null,
      "outputs": [
        {
          "output_type": "execute_result",
          "data": {
            "text/plain": [
              "<seaborn.axisgrid.FacetGrid at 0x7f205b2baa10>"
            ]
          },
          "metadata": {},
          "execution_count": 39
        },
        {
          "output_type": "display_data",
          "data": {
            "text/plain": [
              "<Figure size 360x360 with 1 Axes>"
            ],
            "image/png": "[encoded data removed]"
          },
          "metadata": {
            "needs_background": "light"
          }
        }
      ]
    },
    {
      "cell_type": "markdown",
      "source": [
        "It is observed that IQR- Interquartile range in both Male and Female is approximately equal. \n",
        "This means that both Male and Female are equally using all the services provided by the company and hence,the current monthly charges are equally applied in both categories."
      ],
      "metadata": {
        "id": "BeSuPapNROZ6"
      }
    },
    {
      "cell_type": "markdown",
      "source": [
        "**Q7: Please find what is the minimum total charges for Los Angeles city. Please find which zip code has the maximum total charges.**\n",
        "\n"
      ],
      "metadata": {
        "id": "QrTutoKBSW20"
      }
    },
    {
      "cell_type": "code",
      "source": [
        "#Filter the City by Los Angeles and create a new data frame of Los Angeles\n",
        "df_LA=df[df['City']=='Los Angeles']\n",
        "\n",
        "#dtype of \"Total Charges\" is string 'object'. Hence, Convert to dtype:'Float'\n",
        "df['Total_Charges1']=pd.to_numeric(df_LA['Total Charges'], errors='coerce')# errors statement will the null values with 'na' if any\n",
        "\n",
        "#Min of 'Total Charges' from new data frame\n",
        "df_LA['Total_Charges1'].min()\n",
        "print('Min Total Charges for Los Angeles is :',df_LA['Total_Charges1'].min())\n",
        "\n",
        "#Zip Code of Max Total Charges\n",
        "df_zip=df_LA[df_LA['Total_Charges1']==df_LA['Total_Charges1'].max()]\n",
        "print('Zip Code with Max Total Charges is:',df_zip['Zip Code'])\n"
      ],
      "metadata": {
        "id": "jJIN7IN_ppMS",
        "colab": {
          "base_uri": "https://localhost:8080/"
        },
        "outputId": "144082c0-5ee7-433a-c46e-7266d46510c7"
      },
      "execution_count": 89,
      "outputs": [
        {
          "output_type": "stream",
          "name": "stdout",
          "text": [
            "Min Total Charges for Los Angeles is : 18.8\n",
            "Zip Code with Max Total Charges is: 3117    90044\n",
            "Name: Zip Code, dtype: int64\n"
          ]
        }
      ]
    },
    {
      "cell_type": "markdown",
      "source": [
        "We have got good insights in converting the data types of the columns.The result is as follows,\n",
        "\n",
        "The minimum Total charges in Los Angeles city is: **18.8**\n",
        "\n",
        "The Zip Code with Maximum Total Charges is: **90044**"
      ],
      "metadata": {
        "id": "v83yHcazgPSV"
      }
    },
    {
      "cell_type": "markdown",
      "source": [
        "**Q8: Please find which payment method has the highest churn score and which has the lowest churn score.**\n",
        "\n"
      ],
      "metadata": {
        "id": "eloxvGXElTV-"
      }
    },
    {
      "cell_type": "code",
      "source": [
        "#To find the highest and lowest churn score in payment method we need to group \"payment Method\" & \"churn score\"columns\n",
        "df_churnscore=df.groupby('Payment Method')['Churn Score'].sum()\n",
        "x=(df_churnscore.index)\n",
        "y=(df_churnscore.values)\n",
        "plt.xlabel('Churn Score')\n",
        "plt.ylabel('Modes of Payment')\n",
        "plt.title('Total Churn score of Different Payment Methods')\n",
        "plt.barh(x,y, color=['R','Y','B','G'])#plt.barh is used to calculate the height of the bar in bar plot\n",
        "for ind,value in enumerate(y):\n",
        "  plt.text(value,ind, str(value))"
      ],
      "metadata": {
        "colab": {
          "base_uri": "https://localhost:8080/",
          "height": 295
        },
        "id": "PT88GdSDoqtH",
        "outputId": "0a38e55b-d688-43c3-c523-92c6a6b2a21c"
      },
      "execution_count": null,
      "outputs": [
        {
          "output_type": "display_data",
          "data": {
            "text/plain": [
              "<Figure size 432x288 with 1 Axes>"
            ],
            "image/png": "[encoded data removed]"
          },
          "metadata": {
            "needs_background": "light"
          }
        }
      ]
    },
    {
      "cell_type": "markdown",
      "source": [
        "The above bar graph represents the Churn score of different Payment methods made by customers.\n",
        "It is understood that,\n",
        "* **Electronic Check** has the **Highest Churn score** of **152756**\n",
        "* **Credit Card(automatic)** has the **Lowest Churn Score** of **83989**\n"
      ],
      "metadata": {
        "id": "7LG7kBVWuPSl"
      }
    },
    {
      "cell_type": "markdown",
      "source": [
        "**Q9: Please create an appropriate plot to check the count of payment methods and explain it.**\n",
        "\n"
      ],
      "metadata": {
        "id": "24sJYRM4ofL8"
      }
    },
    {
      "cell_type": "code",
      "source": [
        "df_count=df['Payment Method'].value_counts()#Count of each payment method by using 'Value_counts' function\n",
        "x=(df_count.index)\n",
        "y=(df_count.values)\n",
        "plt.xlabel('Total Count')\n",
        "plt.ylabel('Modes Of Payment')\n",
        "plt.title('Total Count of each Payment Method')\n",
        "plt.barh(x,y, color=['Y','R','G','B'])\n",
        "for ind,value in enumerate(y):\n",
        "  plt.text(value,ind, str(value))"
      ],
      "metadata": {
        "colab": {
          "base_uri": "https://localhost:8080/",
          "height": 295
        },
        "id": "GXGOfdAvyLpY",
        "outputId": "53d258a7-0ab2-4473-b515-fb00bc8fd838"
      },
      "execution_count": null,
      "outputs": [
        {
          "output_type": "display_data",
          "data": {
            "text/plain": [
              "<Figure size 432x288 with 1 Axes>"
            ],
            "image/png": "[encoded data removed]"
          },
          "metadata": {
            "needs_background": "light"
          }
        }
      ]
    },
    {
      "cell_type": "markdown",
      "source": [
        "The above bar graph show the total count of each payment method made by customers.The count is as follows\n",
        "* **Electronic check-             2365**\n",
        "* **Mailed check  -               1612**\n",
        "* **Bank transfer (automatic)-    1544**\n",
        "* **Credit card (automatic)  -    1522**\n",
        "\n",
        "\n",
        "Therefore, maximum no. of the customers are making payments through Electronic check.\n"
      ],
      "metadata": {
        "id": "rfWqilrk4IGW"
      }
    },
    {
      "cell_type": "markdown",
      "source": [
        "**Q10: Please create an appropriate plot to see the relationship between monthly charges and total charges.**\n",
        "\n"
      ],
      "metadata": {
        "id": "bsNb_Mrw7C_-"
      }
    },
    {
      "cell_type": "code",
      "source": [
        "df['Total Charges']=pd.to_numeric(df['Total Charges'], errors='coerce')\n",
        "data=df.groupby('Monthly Charges')['Total Charges'].sum()\n",
        "x=(data.index)\n",
        "y=(data.values)\n",
        "plt.xlabel('Monthly Charges')\n",
        "plt.ylabel('Total Charges')\n",
        "plt.title('Monthly Charges vs Total Charges')\n",
        "sns.scatterplot(x='Total Charges',y='Monthly Charges',data=df)\n"
      ],
      "metadata": {
        "colab": {
          "base_uri": "https://localhost:8080/",
          "height": 312
        },
        "id": "SvXSlOvo6-sC",
        "outputId": "e16b8336-90ce-48bb-c14e-eae7a50af6ba"
      },
      "execution_count": 113,
      "outputs": [
        {
          "output_type": "execute_result",
          "data": {
            "text/plain": [
              "<matplotlib.axes._subplots.AxesSubplot at 0x7f1c3a806950>"
            ]
          },
          "metadata": {},
          "execution_count": 113
        },
        {
          "output_type": "display_data",
          "data": {
            "text/plain": [
              "<Figure size 432x288 with 1 Axes>"
            ],
            "image/png": "[encoded data removed]"
          },
          "metadata": {
            "needs_background": "light"
          }
        }
      ]
    },
    {
      "cell_type": "markdown",
      "source": [
        "The scatter plot is used to see the relation between numerical variables.\n",
        "\n",
        "The above scatter plot shows the relationship between Monthly charges and Total charges for end of Quarter 3.\n",
        "Here, monthly charges are directly proportional to Total charges. It means as the monthly charges increase the Total charges are also increased."
      ],
      "metadata": {
        "id": "HabG4R4dC4ax"
      }
    }
  ]
}